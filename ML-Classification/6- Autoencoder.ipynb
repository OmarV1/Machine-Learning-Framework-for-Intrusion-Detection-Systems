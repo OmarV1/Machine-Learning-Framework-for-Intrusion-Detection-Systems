{
 "cells": [
  {
   "cell_type": "markdown",
   "metadata": {},
   "source": [
    "# Amomaly Detection - One CLass\n",
    "\n",
    "Part VI\n",
    "## Achievement:\n",
    "\n",
    "|Model|Precision|Recall|F1|\n",
    "|-----|---------|------|--|\n",
    "|Undercomplete Autoencoder|0.64|0.59|0.54|\n",
    "|Denoising Autoencoder|**0.83**|**0.82**|0.82|\n",
    "|local outlier factor|0.80|0.79|0.79|\n",
    "\n",
    "### Autoencoder \n",
    "* Undercomplete Autoencoder\n",
    "* Stacked Autoencoder\n",
    "* Denoising Autoencoder"
   ]
  },
  {
   "cell_type": "markdown",
   "metadata": {},
   "source": [
    "# 2. Dataset Preprartion \n",
    "\n",
    "loading the data and prepare it for the training . dataset used CICIDS-2018 "
   ]
  },
  {
   "cell_type": "code",
   "execution_count": 1,
   "metadata": {},
   "outputs": [],
   "source": [
    "dataset_path = r'/media/upm/New Volume/project/0/processed'"
   ]
  },
  {
   "cell_type": "code",
   "execution_count": 2,
   "metadata": {},
   "outputs": [
    {
     "name": "stderr",
     "output_type": "stream",
     "text": [
      "\n",
      "Bad key \"text.kerning_factor\" on line 4 in\n",
      "/home/upm/anaconda3/lib/python3.8/site-packages/matplotlib/mpl-data/stylelib/_classic_test_patch.mplstyle.\n",
      "You probably need to get an updated matplotlibrc file from\n",
      "http://github.com/matplotlib/matplotlib/blob/master/matplotlibrc.template\n",
      "or from the matplotlib source distribution\n"
     ]
    }
   ],
   "source": [
    "import numpy as np\n",
    "import pandas as pd\n",
    "import tensorflow as tf\n",
    "import matplotlib.pyplot as plt\n",
    "import seaborn as sns\n",
    "import gc\n",
    "from ml_ids.data.dataset import load_dataset\n",
    "from ml_ids.transform.preprocessing import create_pipeline\n",
    "from ml_ids.model_selection import split_x_y\n",
    "from ml_ids.visualization import plot_confusion_matrix, plot_hist, plot_threshold\n",
    "from ml_ids.keras.metrics import AveragePrecisionScoreMetric\n",
    "from ml_ids.keras.callbacks import OneCycleScheduler\n",
    "from ml_ids.libs.dfencoder.dataframe import EncoderDataFrame\n",
    "from sklearn.preprocessing import StandardScaler, MinMaxScaler\n",
    "from sklearn.model_selection import train_test_split\n",
    "from sklearn.metrics import average_precision_score, mean_squared_error\n",
    "from sklearn.utils.multiclass import unique_labels\n",
    "from functools import partial\n",
    "import tensorflow as tf\n",
    "from tensorflow import keras\n",
    "from tensorflow.keras import layers, models, optimizers, callbacks, regularizers, constraints\n",
    "from scipy import stats\n",
    "from notebook_utils import predict, evaluate_pr_roc, plot_evaluation_curves, plot_pr_threshold_curves, best_precision_for_target_recall, print_performance, filter_benign\n",
    "\n",
    "K = keras.backend\n",
    "\n",
    "rand_state = 42\n",
    "tf.random.set_seed(rand_state)\n",
    "np.random.seed(rand_state)\n",
    "\n",
    "physical_devices = tf.config.experimental.list_physical_devices('GPU')\n",
    "tf.config.experimental.set_memory_growth(physical_devices[0], True)\n",
    "\n",
    "%matplotlib inline\n",
    "\n",
    "%load_ext autoreload\n",
    "%autoreload 2"
   ]
  },
  {
   "cell_type": "markdown",
   "metadata": {},
   "source": [
    "## 2.1 Data loading"
   ]
  },
  {
   "cell_type": "code",
   "execution_count": 3,
   "metadata": {},
   "outputs": [],
   "source": [
    "# features that will be used in the model and help for better generalization \n",
    "col_to_use = [\n",
    "    'flow_duration',\n",
    "    'flow_byts_s',\n",
    "    'flow_pkts_s',\n",
    "    'flow_iat_mean',\n",
    "    'flow_iat_max',\n",
    "    'flow_iat_min',\n",
    "    'fwd_iat_tot',\n",
    "    'fwd_iat_mean',\n",
    "    'fwd_iat_max',\n",
    "    'fwd_iat_min'\n",
    "]"
   ]
  },
  {
   "cell_type": "code",
   "execution_count": 4,
   "metadata": {},
   "outputs": [],
   "source": [
    "# values close to zero and not helping in the trainning \n",
    "no_variance = [\n",
    "    \"bwd_blk_rate_avg\",\n",
    "    \"bwd_byts_b_avg\",\n",
    "    \"bwd_pkts_b_avg\",\n",
    "    \"bwd_psh_flags\",\n",
    "    \"bwd_urg_flags\",\n",
    "    \"fwd_blk_rate_avg\",\n",
    "    \"fwd_byts_b_avg\",\n",
    "    \"fwd_pkts_b_avg\"\n",
    "]"
   ]
  },
  {
   "cell_type": "code",
   "execution_count": 5,
   "metadata": {},
   "outputs": [],
   "source": [
    "# features have same distrbuation for bengin and malicous trraffic \n",
    "features_same_distribution = [\n",
    "    'fwd_urg_flags',\n",
    "    'pkt_len_var',\n",
    "    'fin_flag_cnt',\n",
    "    'urg_flag_cnt',\n",
    "    'cwe_flag_count',\n",
    "    'down_up_ratio',\n",
    "    'fwd_act_data_pkts',\n",
    "    'active_max'\n",
    "]"
   ]
  },
  {
   "cell_type": "code",
   "execution_count": 6,
   "metadata": {},
   "outputs": [],
   "source": [
    "omit_cols = no_variance + features_same_distribution + ['timestamp', 'dst_port', 'protocol']\n"
   ]
  },
  {
   "cell_type": "code",
   "execution_count": 7,
   "metadata": {},
   "outputs": [],
   "source": [
    "df = load_dataset(dataset_path,\n",
    "                        omit_cols=omit_cols,\n",
    "                        preserve_neg_value_cols = ['init_fwd_win_byts', 'init_bwd_win_byts'])"
   ]
  },
  {
   "cell_type": "markdown",
   "metadata": {},
   "source": [
    "## 2.2. Dataset Split \n",
    "\n",
    "dataset will be split into \n",
    "\n",
    "* training - only benign \n",
    "* validation - both\n",
    "* test - both"
   ]
  },
  {
   "cell_type": "code",
   "execution_count": 8,
   "metadata": {},
   "outputs": [],
   "source": [
    "# first split the df into two datasets attack and bengin traffic \n",
    "benign = df.label_is_attack == 0\n",
    "attack = df.label_cat != 0"
   ]
  },
  {
   "cell_type": "code",
   "execution_count": 9,
   "metadata": {},
   "outputs": [],
   "source": [
    "# only bengin traffic for training data as normal category \n",
    "train_data, hold_data = train_test_split(df[benign], test_size=0.2, random_state=rand_state)\n",
    "\n",
    "# 50% between test and validiation \n",
    "val_benign, test_benign = train_test_split(hold_data, test_size=0.5, random_state=rand_state)"
   ]
  },
  {
   "cell_type": "code",
   "execution_count": 10,
   "metadata": {},
   "outputs": [],
   "source": [
    "# only attack data for testing and also 50 % between bengin and attack \n",
    "val_attack, test_attack = (train_test_split(df[attack],\n",
    "                                                      test_size=0.5,\n",
    "                                                      stratify=df[attack].label_cat,\n",
    "                                                      random_state=rand_state))"
   ]
  },
  {
   "cell_type": "code",
   "execution_count": 11,
   "metadata": {},
   "outputs": [
    {
     "name": "stderr",
     "output_type": "stream",
     "text": [
      "<ipython-input-11-ee5d8e88723e>:4: FutureWarning: The frame.append method is deprecated and will be removed from pandas in a future version. Use pandas.concat instead.\n",
      "  X_val_raw, y_val = split_x_y(val_benign.append(val_attack))\n",
      "<ipython-input-11-ee5d8e88723e>:6: FutureWarning: The frame.append method is deprecated and will be removed from pandas in a future version. Use pandas.concat instead.\n",
      "  X_test_raw, y_test = split_x_y(test_benign.append(test_attack))\n"
     ]
    }
   ],
   "source": [
    "# only benign as a raw data \n",
    "X_train_raw, y_train = split_x_y(train_data)\n",
    "# both traffic in this validiation  \n",
    "X_val_raw, y_val = split_x_y(val_benign.append(val_attack))\n",
    "# both traffic in this test\n",
    "X_test_raw, y_test = split_x_y(test_benign.append(test_attack))"
   ]
  },
  {
   "cell_type": "code",
   "execution_count": 12,
   "metadata": {},
   "outputs": [
    {
     "name": "stdout",
     "output_type": "stream",
     "text": [
      "Samples:\n",
      "========\n",
      "Training: (10787766, 60)\n",
      "Val:      (2722588, 60)\n",
      "Test:     (2722589, 60)\n",
      "\n",
      "Training labels:\n",
      "================\n",
      "Benign    10787766\n",
      "Name: label, dtype: int64\n",
      "\n",
      "Validation labels:\n",
      "==================\n",
      "Benign                      1348471\n",
      "DDOS attack-HOIC             343006\n",
      "DDoS attacks-LOIC-HTTP       288095\n",
      "DoS attacks-Hulk             230956\n",
      "Bot                          143095\n",
      "FTP-BruteForce                96680\n",
      "SSH-Bruteforce                93794\n",
      "Infilteration                 80967\n",
      "DoS attacks-SlowHTTPTest      69945\n",
      "DoS attacks-GoldenEye         20754\n",
      "DoS attacks-Slowloris          5495\n",
      "DDOS attack-LOIC-UDP            865\n",
      "Brute Force -Web                306\n",
      "Brute Force -XSS                115\n",
      "SQL Injection                    44\n",
      "Name: label, dtype: int64\n",
      "\n",
      "Test labels:\n",
      "============\n",
      "Benign                      1348471\n",
      "DDOS attack-HOIC             343006\n",
      "DDoS attacks-LOIC-HTTP       288096\n",
      "DoS attacks-Hulk             230956\n",
      "Bot                          143096\n",
      "FTP-BruteForce                96680\n",
      "SSH-Bruteforce                93795\n",
      "Infilteration                 80967\n",
      "DoS attacks-SlowHTTPTest      69945\n",
      "DoS attacks-GoldenEye         20754\n",
      "DoS attacks-Slowloris          5495\n",
      "DDOS attack-LOIC-UDP            865\n",
      "Brute Force -Web                305\n",
      "Brute Force -XSS                115\n",
      "SQL Injection                    43\n",
      "Name: label, dtype: int64\n"
     ]
    },
    {
     "data": {
      "text/plain": [
       "287"
      ]
     },
     "execution_count": 12,
     "metadata": {},
     "output_type": "execute_result"
    }
   ],
   "source": [
    "print('Samples:')\n",
    "print('========')\n",
    "print('Training: {}'.format(X_train_raw.shape))\n",
    "print('Val:      {}'.format(X_val_raw.shape))\n",
    "print('Test:     {}'.format(X_test_raw.shape))\n",
    "\n",
    "print('\\nTraining labels:')\n",
    "print('================')\n",
    "print(y_train.label.value_counts())\n",
    "print('\\nValidation labels:')\n",
    "print('==================')\n",
    "print(y_val.label.value_counts())\n",
    "print('\\nTest labels:')\n",
    "print('============')\n",
    "print(y_test.label.value_counts())\n",
    "\n",
    "del df, train_data, hold_data, val_benign, val_attack, test_benign, test_attack\n",
    "gc.collect()"
   ]
  },
  {
   "cell_type": "markdown",
   "metadata": {},
   "source": [
    "## 2.3 Data Preprocessing\n",
    "\n",
    "* Missing Data Imputatioon\n",
    "* Normalization using `MinMaxScaler`."
   ]
  },
  {
   "cell_type": "code",
   "execution_count": 13,
   "metadata": {},
   "outputs": [],
   "source": [
    "# create for minmaxscaler \n",
    "pipeline, get_col_names = create_pipeline(X_train_raw, \n",
    "                                          imputer_strategy='median',\n",
    "                                          imputer_cols=col_to_use,\n",
    "                                          scaler=MinMaxScaler)"
   ]
  },
  {
   "cell_type": "code",
   "execution_count": 14,
   "metadata": {},
   "outputs": [],
   "source": [
    "X_train = pipeline.fit_transform(X_train_raw) # bengin\n",
    "X_val = pipeline.transform(X_val_raw) # both\n",
    "X_test = pipeline.transform(X_test_raw) #both"
   ]
  },
  {
   "cell_type": "code",
   "execution_count": 15,
   "metadata": {},
   "outputs": [
    {
     "name": "stderr",
     "output_type": "stream",
     "text": [
      "/home/upm/anaconda3/lib/python3.8/site-packages/sklearn/utils/deprecation.py:87: FutureWarning: Function get_feature_names is deprecated; get_feature_names is deprecated in 1.0 and will be removed in 1.2. Please use get_feature_names_out instead.\n",
      "  warnings.warn(msg, category=FutureWarning)\n"
     ]
    }
   ],
   "source": [
    "X_val_benign = filter_benign(X_val, y_val)\n",
    "column_names = get_col_names()"
   ]
  },
  {
   "cell_type": "code",
   "execution_count": 16,
   "metadata": {},
   "outputs": [
    {
     "name": "stdout",
     "output_type": "stream",
     "text": [
      "Samples:\n",
      "========\n",
      "Training: (10787766, 60)\n",
      "Val:      (2722588, 60)\n",
      "Test:     (2722589, 60)\n",
      "\n",
      "Missing values:\n",
      "===============\n",
      "Training: 0\n",
      "Val:      0\n",
      "Test:     0\n",
      "\n",
      "Scaling:\n",
      "========\n",
      "Training: min=0.0, max=1.0\n",
      "Val:      min=0.0, max=2.2449962079994723\n",
      "Test:     min=0.0, max=2.5524120420747187\n"
     ]
    }
   ],
   "source": [
    "print('Samples:')\n",
    "print('========')\n",
    "print('Training: {}'.format(X_train.shape))\n",
    "print('Val:      {}'.format(X_val.shape))\n",
    "print('Test:     {}'.format(X_test.shape))\n",
    "\n",
    "print('\\nMissing values:')\n",
    "print('===============')\n",
    "print('Training: {}'.format(np.count_nonzero(np.isnan(X_train))))\n",
    "print('Val:      {}'.format(np.count_nonzero(np.isnan(X_val))))\n",
    "print('Test:     {}'.format(np.count_nonzero(np.isnan(X_test))))\n",
    "\n",
    "print('\\nScaling:')\n",
    "print('========')\n",
    "print('Training: min={}, max={}'.format(np.min(X_train), np.max(X_train)))\n",
    "print('Val:      min={}, max={}'.format(np.min(X_val), np.max(X_val)))\n",
    "print('Test:     min={}, max={}'.format(np.min(X_test), np.max(X_test)))"
   ]
  },
  {
   "cell_type": "markdown",
   "metadata": {},
   "source": [
    "## 3. Model Training\n",
    "\n",
    "In this section we train and evaluate various types of autoencoder architectures to create a binary classifier using anomaly detection.\n",
    "\n",
    "The following autoencoder architectures are evaluated:\n",
    "- Undercomplete Autoencoder\n",
    "- Stacked Autoencoder\n",
    "- Denoising Autoencoder"
   ]
  },
  {
   "cell_type": "code",
   "execution_count": 17,
   "metadata": {},
   "outputs": [],
   "source": [
    "input_dims = X_train.shape[1]\n",
    "epochs = 50\n",
    "batch_size = 4096"
   ]
  },
  {
   "cell_type": "markdown",
   "metadata": {},
   "source": [
    "# 3.1 Undercomplete Autoencoder\n",
    "\n",
    "The undercomplete autoencoder represents the simplest type of autoencoder, as it uses a single restricted hidden layer containing the latent representations of the data.  "
   ]
  },
  {
   "cell_type": "code",
   "execution_count": 18,
   "metadata": {},
   "outputs": [
    {
     "name": "stdout",
     "output_type": "stream",
     "text": [
      "Model: \"sequential\"\n",
      "_________________________________________________________________\n",
      " Layer (type)                Output Shape              Param #   \n",
      "=================================================================\n",
      " dense (Dense)               (None, 30)                1830      \n",
      "                                                                 \n",
      " dense_1 (Dense)             (None, 60)                1860      \n",
      "                                                                 \n",
      "=================================================================\n",
      "Total params: 3,690\n",
      "Trainable params: 3,690\n",
      "Non-trainable params: 0\n",
      "_________________________________________________________________\n"
     ]
    }
   ],
   "source": [
    "K.clear_session()\n",
    "gc.collect()\n",
    "\n",
    "simple_ae = models.Sequential([\n",
    "    layers.Dense(30, activation='elu', input_shape=[input_dims]),\n",
    "    layers.Dense(input_dims, activation='sigmoid')\n",
    "])\n",
    "\n",
    "simple_ae.compile(optimizer='adam', loss='CategoricalCrossentropy')\n",
    "simple_ae.summary()"
   ]
  },
  {
   "cell_type": "markdown",
   "metadata": {},
   "source": [
    "# Training Part"
   ]
  },
  {
   "cell_type": "code",
   "execution_count": 19,
   "metadata": {},
   "outputs": [],
   "source": [
    "early_stopping = callbacks.EarlyStopping(monitor='val_auprc', \n",
    "                                         mode='max',\n",
    "                                         patience=15,                             \n",
    "                                         restore_best_weights=True)"
   ]
  },
  {
   "cell_type": "code",
   "execution_count": 20,
   "metadata": {},
   "outputs": [],
   "source": [
    "reduce_lr = callbacks.ReduceLROnPlateau(monitor='val_auprc', \n",
    "                                        mode='max', \n",
    "                                        factor=0.2, \n",
    "                                        patience=3, \n",
    "                                        min_lr=0.0001)"
   ]
  },
  {
   "cell_type": "code",
   "execution_count": 21,
   "metadata": {},
   "outputs": [],
   "source": [
    "mc = callbacks.ModelCheckpoint(filepath='models/simple_autoencoder_model.h5',\n",
    "                               monitor='val_auprc', \n",
    "                               mode='max',\n",
    "                               save_best_only=True, \n",
    "                               verbose=0)"
   ]
  },
  {
   "cell_type": "code",
   "execution_count": 22,
   "metadata": {},
   "outputs": [
    {
     "name": "stdout",
     "output_type": "stream",
     "text": [
      "Epoch 1/50\n",
      "2614/2634 [============================>.] - ETA: 0s - loss: 16.9317 - val_auprc: 0.4134\n",
      "2634/2634 [==============================] - 13s 5ms/step - loss: 17.0484 - val_loss: 32.5896 - val_auprc: 0.4134 - lr: 0.0010\n",
      "Epoch 2/50\n",
      "2619/2634 [============================>.] - ETA: 0s - loss: 46.9652 - val_auprc: 0.4136\n",
      "2634/2634 [==============================] - 11s 4ms/step - loss: 47.0430 - val_loss: 60.8123 - val_auprc: 0.4136 - lr: 0.0010\n",
      "Epoch 3/50\n",
      "2613/2634 [============================>.] - ETA: 0s - loss: 73.5219 - val_auprc: 0.4136\n",
      "2634/2634 [==============================] - 11s 4ms/step - loss: 73.6197 - val_loss: 86.1172 - val_auprc: 0.4136 - lr: 0.0010\n",
      "Epoch 4/50\n",
      "2634/2634 [==============================] - ETA: 0s - loss: 98.4856 - val_auprc: 0.4146\n",
      "2634/2634 [==============================] - 11s 4ms/step - loss: 98.4856 - val_loss: 110.2364 - val_auprc: 0.4146 - lr: 0.0010\n",
      "Epoch 5/50\n",
      "2613/2634 [============================>.] - ETA: 0s - loss: 122.1973 - val_auprc: 0.4148\n",
      "2634/2634 [==============================] - 12s 5ms/step - loss: 122.2894 - val_loss: 134.1694 - val_auprc: 0.4148 - lr: 0.0010\n",
      "Epoch 6/50\n",
      "2620/2634 [============================>.] - ETA: 0s - loss: 146.1624 - val_auprc: 0.4149\n",
      "2634/2634 [==============================] - 11s 4ms/step - loss: 146.2179 - val_loss: 157.0935 - val_auprc: 0.4149 - lr: 0.0010\n",
      "Epoch 7/50\n",
      "2630/2634 [============================>.] - ETA: 0s - loss: 169.2915 - val_auprc: 0.4166\n",
      "2634/2634 [==============================] - 11s 4ms/step - loss: 169.3105 - val_loss: 181.2699 - val_auprc: 0.4166 - lr: 0.0010\n",
      "Epoch 8/50\n",
      "2610/2634 [============================>.] - ETA: 0s - loss: 192.8754 - val_auprc: 0.4183\n",
      "2634/2634 [==============================] - 11s 4ms/step - loss: 192.9672 - val_loss: 204.8255 - val_auprc: 0.4183 - lr: 0.0010\n",
      "Epoch 9/50\n",
      "2625/2634 [============================>.] - ETA: 0s - loss: 216.3595 - val_auprc: 0.4203\n",
      "2634/2634 [==============================] - 10s 4ms/step - loss: 216.4033 - val_loss: 229.0045 - val_auprc: 0.4203 - lr: 0.0010\n",
      "Epoch 10/50\n",
      "2628/2634 [============================>.] - ETA: 0s - loss: 240.4091 - val_auprc: 0.4220\n",
      "2634/2634 [==============================] - 10s 4ms/step - loss: 240.4436 - val_loss: 252.9364 - val_auprc: 0.4220 - lr: 0.0010\n",
      "Epoch 11/50\n",
      "2632/2634 [============================>.] - ETA: 0s - loss: 264.9394 - val_auprc: 0.4223\n",
      "2634/2634 [==============================] - 10s 4ms/step - loss: 264.9559 - val_loss: 276.1378 - val_auprc: 0.4223 - lr: 0.0010\n",
      "Epoch 12/50\n",
      "2624/2634 [============================>.] - ETA: 0s - loss: 288.7327 - val_auprc: 0.4232\n",
      "2634/2634 [==============================] - 10s 4ms/step - loss: 288.7930 - val_loss: 301.0920 - val_auprc: 0.4232 - lr: 0.0010\n",
      "Epoch 13/50\n",
      "2615/2634 [============================>.] - ETA: 0s - loss: 313.7120 - val_auprc: 0.4225\n",
      "2634/2634 [==============================] - 10s 4ms/step - loss: 313.7969 - val_loss: 326.2534 - val_auprc: 0.4225 - lr: 0.0010\n",
      "Epoch 14/50\n",
      "2616/2634 [============================>.] - ETA: 0s - loss: 339.5274 - val_auprc: 0.4233\n",
      "2634/2634 [==============================] - 11s 4ms/step - loss: 339.5831 - val_loss: 348.8290 - val_auprc: 0.4233 - lr: 0.0010\n",
      "Epoch 15/50\n",
      "2606/2634 [============================>.] - ETA: 0s - loss: 362.5842 - val_auprc: 0.4231\n",
      "2634/2634 [==============================] - 10s 4ms/step - loss: 362.7937 - val_loss: 377.5571 - val_auprc: 0.4231 - lr: 0.0010\n",
      "Epoch 16/50\n",
      "2634/2634 [==============================] - ETA: 0s - loss: 380.2683 - val_auprc: 0.4232\n",
      "2634/2634 [==============================] - 11s 4ms/step - loss: 380.2683 - val_loss: 382.5782 - val_auprc: 0.4232 - lr: 2.0000e-04\n",
      "Epoch 17/50\n",
      "2616/2634 [============================>.] - ETA: 0s - loss: 385.5532 - val_auprc: 0.4236\n",
      "2634/2634 [==============================] - 10s 4ms/step - loss: 385.6034 - val_loss: 387.9700 - val_auprc: 0.4236 - lr: 2.0000e-04\n",
      "Epoch 18/50\n",
      "2620/2634 [============================>.] - ETA: 0s - loss: 391.0346 - val_auprc: 0.4238\n",
      "2634/2634 [==============================] - 10s 4ms/step - loss: 391.0647 - val_loss: 393.2643 - val_auprc: 0.4238 - lr: 2.0000e-04\n",
      "Epoch 19/50\n",
      "2628/2634 [============================>.] - ETA: 0s - loss: 396.2413 - val_auprc: 0.4245\n",
      "2634/2634 [==============================] - 11s 4ms/step - loss: 396.2186 - val_loss: 398.8248 - val_auprc: 0.4245 - lr: 2.0000e-04\n",
      "Epoch 20/50\n",
      "2625/2634 [============================>.] - ETA: 0s - loss: 401.8460 - val_auprc: 0.4249\n",
      "2634/2634 [==============================] - 11s 4ms/step - loss: 401.8503 - val_loss: 404.4914 - val_auprc: 0.4249 - lr: 2.0000e-04\n",
      "Epoch 21/50\n",
      "2615/2634 [============================>.] - ETA: 0s - loss: 407.3727 - val_auprc: 0.4257\n",
      "2634/2634 [==============================] - 10s 4ms/step - loss: 407.4270 - val_loss: 409.4225 - val_auprc: 0.4257 - lr: 2.0000e-04\n",
      "Epoch 22/50\n",
      "2629/2634 [============================>.] - ETA: 0s - loss: 412.7337 - val_auprc: 0.4264\n",
      "2634/2634 [==============================] - 11s 4ms/step - loss: 412.7242 - val_loss: 415.2053 - val_auprc: 0.4264 - lr: 2.0000e-04\n",
      "Epoch 23/50\n",
      "2621/2634 [============================>.] - ETA: 0s - loss: 418.3162 - val_auprc: 0.4288\n",
      "2634/2634 [==============================] - 10s 4ms/step - loss: 418.3239 - val_loss: 420.6468 - val_auprc: 0.4288 - lr: 2.0000e-04\n",
      "Epoch 24/50\n",
      "2616/2634 [============================>.] - ETA: 0s - loss: 423.6078 - val_auprc: 0.4293\n",
      "2634/2634 [==============================] - 10s 4ms/step - loss: 423.6281 - val_loss: 426.1868 - val_auprc: 0.4293 - lr: 2.0000e-04\n",
      "Epoch 25/50\n",
      "2613/2634 [============================>.] - ETA: 0s - loss: 429.4785 - val_auprc: 0.4304\n",
      "2634/2634 [==============================] - 10s 4ms/step - loss: 429.5289 - val_loss: 431.3107 - val_auprc: 0.4304 - lr: 2.0000e-04\n",
      "Epoch 26/50\n",
      "2614/2634 [============================>.] - ETA: 0s - loss: 434.7571 - val_auprc: 0.4315\n",
      "2634/2634 [==============================] - 10s 4ms/step - loss: 434.7437 - val_loss: 436.8268 - val_auprc: 0.4315 - lr: 2.0000e-04\n",
      "Epoch 27/50\n",
      "2628/2634 [============================>.] - ETA: 0s - loss: 439.9843 - val_auprc: 0.4324\n",
      "2634/2634 [==============================] - 11s 4ms/step - loss: 440.0039 - val_loss: 442.3401 - val_auprc: 0.4324 - lr: 2.0000e-04\n",
      "Epoch 28/50\n",
      "2622/2634 [============================>.] - ETA: 0s - loss: 445.5713 - val_auprc: 0.4334\n",
      "2634/2634 [==============================] - 10s 4ms/step - loss: 445.5674 - val_loss: 448.0411 - val_auprc: 0.4334 - lr: 2.0000e-04\n",
      "Epoch 29/50\n",
      "2621/2634 [============================>.] - ETA: 0s - loss: 451.2253 - val_auprc: 0.4346\n",
      "2634/2634 [==============================] - 10s 4ms/step - loss: 451.2481 - val_loss: 453.7931 - val_auprc: 0.4346 - lr: 2.0000e-04\n",
      "Epoch 30/50\n",
      "2623/2634 [============================>.] - ETA: 0s - loss: 456.6943 - val_auprc: 0.4362\n",
      "2634/2634 [==============================] - 10s 4ms/step - loss: 456.7089 - val_loss: 459.1523 - val_auprc: 0.4362 - lr: 2.0000e-04\n",
      "Epoch 31/50\n",
      "2621/2634 [============================>.] - ETA: 0s - loss: 462.3005 - val_auprc: 0.4385\n",
      "2634/2634 [==============================] - 11s 4ms/step - loss: 462.3136 - val_loss: 464.6200 - val_auprc: 0.4385 - lr: 2.0000e-04\n",
      "Epoch 32/50\n",
      "2620/2634 [============================>.] - ETA: 0s - loss: 468.0222 - val_auprc: 0.4418\n",
      "2634/2634 [==============================] - 11s 4ms/step - loss: 468.0069 - val_loss: 470.2612 - val_auprc: 0.4418 - lr: 2.0000e-04\n",
      "Epoch 33/50\n",
      "2634/2634 [==============================] - ETA: 0s - loss: 473.7104 - val_auprc: 0.4447\n",
      "2634/2634 [==============================] - 11s 4ms/step - loss: 473.7104 - val_loss: 476.6709 - val_auprc: 0.4447 - lr: 2.0000e-04\n",
      "Epoch 34/50\n",
      "2611/2634 [============================>.] - ETA: 0s - loss: 479.7604 - val_auprc: 0.4483\n",
      "2634/2634 [==============================] - 11s 4ms/step - loss: 479.8580 - val_loss: 482.3479 - val_auprc: 0.4483 - lr: 2.0000e-04\n",
      "Epoch 35/50\n",
      "2610/2634 [============================>.] - ETA: 0s - loss: 485.6894 - val_auprc: 0.4501\n",
      "2634/2634 [==============================] - 10s 4ms/step - loss: 485.6486 - val_loss: 487.7612 - val_auprc: 0.4501 - lr: 2.0000e-04\n",
      "Epoch 36/50\n",
      "2611/2634 [============================>.] - ETA: 0s - loss: 491.0420 - val_auprc: 0.4516\n",
      "2634/2634 [==============================] - 10s 4ms/step - loss: 491.1544 - val_loss: 494.0343 - val_auprc: 0.4516 - lr: 2.0000e-04\n",
      "Epoch 37/50\n",
      "2621/2634 [============================>.] - ETA: 0s - loss: 497.2912 - val_auprc: 0.4534\n",
      "2634/2634 [==============================] - 10s 4ms/step - loss: 497.3467 - val_loss: 499.9115 - val_auprc: 0.4534 - lr: 2.0000e-04\n",
      "Epoch 38/50\n",
      "2629/2634 [============================>.] - ETA: 0s - loss: 503.3199 - val_auprc: 0.4552\n",
      "2634/2634 [==============================] - 11s 4ms/step - loss: 503.3174 - val_loss: 506.1117 - val_auprc: 0.4552 - lr: 2.0000e-04\n",
      "Epoch 39/50\n",
      "2627/2634 [============================>.] - ETA: 0s - loss: 509.6183 - val_auprc: 0.4576\n",
      "2634/2634 [==============================] - 10s 4ms/step - loss: 509.6118 - val_loss: 512.0341 - val_auprc: 0.4576 - lr: 2.0000e-04\n",
      "Epoch 40/50\n",
      "2620/2634 [============================>.] - ETA: 0s - loss: 515.7474 - val_auprc: 0.4600\n",
      "2634/2634 [==============================] - 10s 4ms/step - loss: 515.7170 - val_loss: 518.5398 - val_auprc: 0.4600 - lr: 2.0000e-04\n",
      "Epoch 41/50\n",
      "2621/2634 [============================>.] - ETA: 0s - loss: 521.9905 - val_auprc: 0.4618\n",
      "2634/2634 [==============================] - 10s 4ms/step - loss: 522.0901 - val_loss: 524.6210 - val_auprc: 0.4618 - lr: 2.0000e-04\n",
      "Epoch 42/50\n",
      "2634/2634 [==============================] - ETA: 0s - loss: 528.7217 - val_auprc: 0.4646\n",
      "2634/2634 [==============================] - 10s 4ms/step - loss: 528.7217 - val_loss: 531.0661 - val_auprc: 0.4646 - lr: 2.0000e-04\n",
      "Epoch 43/50\n",
      "2613/2634 [============================>.] - ETA: 0s - loss: 535.0217 - val_auprc: 0.4666\n",
      "2634/2634 [==============================] - 10s 4ms/step - loss: 535.0779 - val_loss: 538.3527 - val_auprc: 0.4666 - lr: 2.0000e-04\n",
      "Epoch 44/50\n",
      "2632/2634 [============================>.] - ETA: 0s - loss: 542.0632 - val_auprc: 0.4709\n",
      "2634/2634 [==============================] - 10s 4ms/step - loss: 542.0708 - val_loss: 545.0775 - val_auprc: 0.4709 - lr: 2.0000e-04\n",
      "Epoch 45/50\n",
      "2634/2634 [==============================] - ETA: 0s - loss: 549.0233 - val_auprc: 0.4739\n",
      "2634/2634 [==============================] - 10s 4ms/step - loss: 549.0233 - val_loss: 551.6624 - val_auprc: 0.4739 - lr: 2.0000e-04\n",
      "Epoch 46/50\n",
      "2622/2634 [============================>.] - ETA: 0s - loss: 555.8055 - val_auprc: 0.4761\n",
      "2634/2634 [==============================] - 10s 4ms/step - loss: 555.8328 - val_loss: 559.1500 - val_auprc: 0.4761 - lr: 2.0000e-04\n",
      "Epoch 47/50\n",
      "2624/2634 [============================>.] - ETA: 0s - loss: 563.1992 - val_auprc: 0.4793\n",
      "2634/2634 [==============================] - 10s 4ms/step - loss: 563.2432 - val_loss: 565.9596 - val_auprc: 0.4793 - lr: 2.0000e-04\n",
      "Epoch 48/50\n",
      "2621/2634 [============================>.] - ETA: 0s - loss: 569.8737 - val_auprc: 0.4810\n",
      "2634/2634 [==============================] - 11s 4ms/step - loss: 569.8873 - val_loss: 573.2554 - val_auprc: 0.4810 - lr: 2.0000e-04\n",
      "Epoch 49/50\n",
      "2606/2634 [============================>.] - ETA: 0s - loss: 577.1326 - val_auprc: 0.4837\n",
      "2634/2634 [==============================] - 13s 5ms/step - loss: 577.1116 - val_loss: 580.5582 - val_auprc: 0.4837 - lr: 2.0000e-04\n",
      "Epoch 50/50\n",
      "2616/2634 [============================>.] - ETA: 0s - loss: 584.4113 - val_auprc: 0.4882\n",
      "2634/2634 [==============================] - 11s 4ms/step - loss: 584.4301 - val_loss: 587.8499 - val_auprc: 0.4882 - lr: 2.0000e-04\n"
     ]
    }
   ],
   "source": [
    "\n",
    "hist = simple_ae.fit(x=X_train, \n",
    "                     y=X_train, \n",
    "                     validation_data=(X_val_benign, X_val_benign),\n",
    "                     batch_size=batch_size,\n",
    "                     epochs=epochs,\n",
    "                     callbacks=[\n",
    "                         AveragePrecisionScoreMetric(X_val=X_val, y_val=y_val.label_is_attack, batch_size=16384),\n",
    "                         early_stopping,\n",
    "                         reduce_lr,\n",
    "                         mc\n",
    "                     ])"
   ]
  },
  {
   "cell_type": "markdown",
   "metadata": {},
   "source": [
    "# Validation "
   ]
  },
  {
   "cell_type": "code",
   "execution_count": 23,
   "metadata": {},
   "outputs": [
    {
     "data": {
      "image/png": "[encoded data removed]",
      "text/plain": [
       "<Figure size 576x360 with 1 Axes>"
      ]
     },
     "metadata": {
      "needs_background": "light"
     },
     "output_type": "display_data"
    }
   ],
   "source": [
    "plot_hist(hist)"
   ]
  },
  {
   "cell_type": "code",
   "execution_count": 27,
   "metadata": {},
   "outputs": [
    {
     "name": "stdout",
     "output_type": "stream",
     "text": [
      "0.9250761806821175\n"
     ]
    }
   ],
   "source": [
    "threshold_simple_ae = best_precision_for_target_recall(pred_val_simple_ae, target_recall=0.9)\n",
    "print(threshold_simple_ae)"
   ]
  },
  {
   "cell_type": "code",
   "execution_count": 25,
   "metadata": {
    "collapsed": true
   },
   "outputs": [
    {
     "data": {
      "image/png": "[encoded data removed]",
      "text/plain": [
       "<Figure size 1440x576 with 2 Axes>"
      ]
     },
     "metadata": {
      "needs_background": "light"
     },
     "output_type": "display_data"
    }
   ],
   "source": [
    "simple_ae = models.load_model('models/simple_autoencoder_model.h5')\n",
    "#pred_train_simple_ae = predict(simple_ae, X_train, y_train.label_is_attack)\n",
    "pred_val_simple_ae = predict(simple_ae, X_val, y_val.label_is_attack)"
   ]
  },
  {
   "cell_type": "markdown",
   "metadata": {},
   "source": [
    "# Performance "
   ]
  },
  {
   "cell_type": "code",
   "execution_count": 28,
   "metadata": {},
   "outputs": [
    {
     "name": "stdout",
     "output_type": "stream",
     "text": [
      "Classification Report:\n",
      "======================\n",
      "              precision    recall  f1-score   support\n",
      "\n",
      "           0       0.72      0.27      0.39   1348471\n",
      "           1       0.56      0.90      0.69   1374117\n",
      "\n",
      "    accuracy                           0.59   2722588\n",
      "   macro avg       0.64      0.58      0.54   2722588\n",
      "weighted avg       0.64      0.59      0.54   2722588\n",
      "\n",
      "Confusion Matrix:\n",
      "=================\n"
     ]
    },
    {
     "data": {
      "image/png": "[encoded data removed]",
      "text/plain": [
       "<Figure size 360x360 with 2 Axes>"
      ]
     },
     "metadata": {
      "needs_background": "light"
     },
     "output_type": "display_data"
    },
    {
     "name": "stdout",
     "output_type": "stream",
     "text": [
      "Misclassifications by attack category:\n",
      "======================================\n"
     ]
    },
    {
     "data": {
      "text/html": [
       "<div>\n",
       "<style scoped>\n",
       "    .dataframe tbody tr th:only-of-type {\n",
       "        vertical-align: middle;\n",
       "    }\n",
       "\n",
       "    .dataframe tbody tr th {\n",
       "        vertical-align: top;\n",
       "    }\n",
       "\n",
       "    .dataframe thead th {\n",
       "        text-align: right;\n",
       "    }\n",
       "</style>\n",
       "<table border=\"1\" class=\"dataframe\">\n",
       "  <thead>\n",
       "    <tr style=\"text-align: right;\">\n",
       "      <th></th>\n",
       "      <th>misclassified</th>\n",
       "      <th>total</th>\n",
       "      <th>percent_misclassified</th>\n",
       "    </tr>\n",
       "  </thead>\n",
       "  <tbody>\n",
       "    <tr>\n",
       "      <th>DDOS attack-LOIC-UDP</th>\n",
       "      <td>816</td>\n",
       "      <td>865</td>\n",
       "      <td>0.943353</td>\n",
       "    </tr>\n",
       "    <tr>\n",
       "      <th>Benign</th>\n",
       "      <td>989952</td>\n",
       "      <td>1348471</td>\n",
       "      <td>0.734129</td>\n",
       "    </tr>\n",
       "    <tr>\n",
       "      <th>DoS attacks-Slowloris</th>\n",
       "      <td>3978</td>\n",
       "      <td>5495</td>\n",
       "      <td>0.723931</td>\n",
       "    </tr>\n",
       "    <tr>\n",
       "      <th>Brute Force -XSS</th>\n",
       "      <td>63</td>\n",
       "      <td>115</td>\n",
       "      <td>0.547826</td>\n",
       "    </tr>\n",
       "    <tr>\n",
       "      <th>SQL Injection</th>\n",
       "      <td>19</td>\n",
       "      <td>44</td>\n",
       "      <td>0.431818</td>\n",
       "    </tr>\n",
       "    <tr>\n",
       "      <th>Brute Force -Web</th>\n",
       "      <td>87</td>\n",
       "      <td>306</td>\n",
       "      <td>0.284314</td>\n",
       "    </tr>\n",
       "    <tr>\n",
       "      <th>DDOS attack-HOIC</th>\n",
       "      <td>81817</td>\n",
       "      <td>343006</td>\n",
       "      <td>0.238529</td>\n",
       "    </tr>\n",
       "    <tr>\n",
       "      <th>Infilteration</th>\n",
       "      <td>15799</td>\n",
       "      <td>80967</td>\n",
       "      <td>0.195129</td>\n",
       "    </tr>\n",
       "    <tr>\n",
       "      <th>DDoS attacks-LOIC-HTTP</th>\n",
       "      <td>32632</td>\n",
       "      <td>288095</td>\n",
       "      <td>0.113268</td>\n",
       "    </tr>\n",
       "    <tr>\n",
       "      <th>DoS attacks-GoldenEye</th>\n",
       "      <td>1677</td>\n",
       "      <td>20754</td>\n",
       "      <td>0.080804</td>\n",
       "    </tr>\n",
       "    <tr>\n",
       "      <th>DoS attacks-Hulk</th>\n",
       "      <td>518</td>\n",
       "      <td>230956</td>\n",
       "      <td>0.002243</td>\n",
       "    </tr>\n",
       "    <tr>\n",
       "      <th>Bot</th>\n",
       "      <td>6</td>\n",
       "      <td>143095</td>\n",
       "      <td>0.000042</td>\n",
       "    </tr>\n",
       "  </tbody>\n",
       "</table>\n",
       "</div>"
      ],
      "text/plain": [
       "                        misclassified    total  percent_misclassified\n",
       "DDOS attack-LOIC-UDP              816      865               0.943353\n",
       "Benign                         989952  1348471               0.734129\n",
       "DoS attacks-Slowloris            3978     5495               0.723931\n",
       "Brute Force -XSS                   63      115               0.547826\n",
       "SQL Injection                      19       44               0.431818\n",
       "Brute Force -Web                   87      306               0.284314\n",
       "DDOS attack-HOIC                81817   343006               0.238529\n",
       "Infilteration                   15799    80967               0.195129\n",
       "DDoS attacks-LOIC-HTTP          32632   288095               0.113268\n",
       "DoS attacks-GoldenEye            1677    20754               0.080804\n",
       "DoS attacks-Hulk                  518   230956               0.002243\n",
       "Bot                                 6   143095               0.000042"
      ]
     },
     "metadata": {},
     "output_type": "display_data"
    }
   ],
   "source": [
    "print_performance(y_val, pred_val_simple_ae, threshold=threshold_simple_ae)"
   ]
  },
  {
   "cell_type": "markdown",
   "metadata": {},
   "source": [
    "# 3.2 Denoising Autoencoder\n",
    "\n",
    "Another variant of the autoencoder is the denoising autoencoder. In this version, the model is restricted not by limiting the size of the hidden layers but by adding additional noise to the inputs. The objective of the model is to recreate the inputs without containing the noise.    "
   ]
  },
  {
   "cell_type": "code",
   "execution_count": 29,
   "metadata": {},
   "outputs": [],
   "source": [
    "X_train_swapped = EncoderDataFrame(pd.DataFrame(data=X_train).copy()).swap(likelihood=.15).values\n",
    "X_val_benign_swapped = EncoderDataFrame(pd.DataFrame(data=X_val_benign).copy()).swap(likelihood=.15).values"
   ]
  },
  {
   "cell_type": "code",
   "execution_count": 30,
   "metadata": {},
   "outputs": [
    {
     "name": "stdout",
     "output_type": "stream",
     "text": [
      "Model: \"sequential\"\n",
      "_________________________________________________________________\n",
      " Layer (type)                Output Shape              Param #   \n",
      "=================================================================\n",
      " dense (Dense)               (None, 512)               31232     \n",
      "                                                                 \n",
      " dropout (Dropout)           (None, 512)               0         \n",
      "                                                                 \n",
      " dense_1 (Dense)             (None, 512)               262656    \n",
      "                                                                 \n",
      " dropout_1 (Dropout)         (None, 512)               0         \n",
      "                                                                 \n",
      " dense_2 (Dense)             (None, 512)               262656    \n",
      "                                                                 \n",
      " dropout_2 (Dropout)         (None, 512)               0         \n",
      "                                                                 \n",
      " dense_3 (Dense)             (None, 512)               262656    \n",
      "                                                                 \n",
      " dropout_3 (Dropout)         (None, 512)               0         \n",
      "                                                                 \n",
      " dense_4 (Dense)             (None, 512)               262656    \n",
      "                                                                 \n",
      " dropout_4 (Dropout)         (None, 512)               0         \n",
      "                                                                 \n",
      " dense_5 (Dense)             (None, 60)                30780     \n",
      "                                                                 \n",
      "=================================================================\n",
      "Total params: 1,112,636\n",
      "Trainable params: 1,112,636\n",
      "Non-trainable params: 0\n",
      "_________________________________________________________________\n"
     ]
    }
   ],
   "source": [
    "K.clear_session()\n",
    "gc.collect()\n",
    "\n",
    "activation = 'elu' \n",
    "dropout = 0.1\n",
    "\n",
    "denoising_ae = models.Sequential([\n",
    "    layers.Dense(512, activation=activation, input_shape=[input_dims]),\n",
    "    layers.Dropout(dropout),\n",
    "    layers.Dense(512, activation=activation),\n",
    "    layers.Dropout(dropout),\n",
    "    layers.Dense(512, activation=activation),\n",
    "    layers.Dropout(dropout),\n",
    "    layers.Dense(512, activation=activation),\n",
    "    layers.Dropout(dropout),\n",
    "    layers.Dense(512, activation=activation),\n",
    "    layers.Dropout(dropout),\n",
    "    layers.Dense(input_dims, activation='sigmoid')\n",
    "])\n",
    "\n",
    "denoising_ae.compile(optimizer='adam', loss='binary_crossentropy')\n",
    "denoising_ae.summary()"
   ]
  },
  {
   "cell_type": "markdown",
   "metadata": {},
   "source": [
    "# Training "
   ]
  },
  {
   "cell_type": "code",
   "execution_count": 31,
   "metadata": {
    "scrolled": true
   },
   "outputs": [
    {
     "name": "stdout",
     "output_type": "stream",
     "text": [
      "Epoch 1/50\n",
      "2628/2634 [============================>.] - ETA: 0s - loss: 0.0380 - val_auprc: 0.8805\n",
      "2634/2634 [==============================] - 26s 9ms/step - loss: 0.0380 - val_loss: 0.0341 - val_auprc: 0.8805 - lr: 0.0010\n",
      "Epoch 2/50\n",
      "2626/2634 [============================>.] - ETA: 0s - loss: 0.0342 - val_auprc: 0.8648\n",
      "2634/2634 [==============================] - 25s 9ms/step - loss: 0.0341 - val_loss: 0.0334 - val_auprc: 0.8648 - lr: 0.0010\n",
      "Epoch 3/50\n",
      "2626/2634 [============================>.] - ETA: 0s - loss: 0.0336 - val_auprc: 0.8948\n",
      "2634/2634 [==============================] - 25s 9ms/step - loss: 0.0336 - val_loss: 0.0331 - val_auprc: 0.8948 - lr: 0.0010\n",
      "Epoch 4/50\n",
      "2626/2634 [============================>.] - ETA: 0s - loss: 0.0333 - val_auprc: 0.8832\n",
      "2634/2634 [==============================] - 25s 9ms/step - loss: 0.0333 - val_loss: 0.0329 - val_auprc: 0.8832 - lr: 0.0010\n",
      "Epoch 5/50\n",
      "2631/2634 [============================>.] - ETA: 0s - loss: 0.0331 - val_auprc: 0.9028\n",
      "2634/2634 [==============================] - 25s 10ms/step - loss: 0.0331 - val_loss: 0.0328 - val_auprc: 0.9028 - lr: 0.0010\n",
      "Epoch 6/50\n",
      "2633/2634 [============================>.] - ETA: 0s - loss: 0.0330 - val_auprc: 0.8768\n",
      "2634/2634 [==============================] - 25s 9ms/step - loss: 0.0330 - val_loss: 0.0327 - val_auprc: 0.8768 - lr: 0.0010\n",
      "Epoch 7/50\n",
      "2634/2634 [==============================] - ETA: 0s - loss: 0.0329 - val_auprc: 0.8740\n",
      "2634/2634 [==============================] - 25s 9ms/step - loss: 0.0329 - val_loss: 0.0326 - val_auprc: 0.8740 - lr: 0.0010\n",
      "Epoch 8/50\n",
      "2634/2634 [==============================] - ETA: 0s - loss: 0.0328 - val_auprc: 0.8854\n",
      "2634/2634 [==============================] - 24s 9ms/step - loss: 0.0328 - val_loss: 0.0325 - val_auprc: 0.8854 - lr: 0.0010\n",
      "Epoch 9/50\n",
      "2627/2634 [============================>.] - ETA: 0s - loss: 0.0326 - val_auprc: 0.9272\n",
      "2634/2634 [==============================] - 23s 9ms/step - loss: 0.0326 - val_loss: 0.0324 - val_auprc: 0.9272 - lr: 2.0000e-04\n",
      "Epoch 10/50\n",
      "2629/2634 [============================>.] - ETA: 0s - loss: 0.0326 - val_auprc: 0.9200\n",
      "2634/2634 [==============================] - 23s 9ms/step - loss: 0.0326 - val_loss: 0.0324 - val_auprc: 0.9200 - lr: 2.0000e-04\n",
      "Epoch 11/50\n",
      "2634/2634 [==============================] - ETA: 0s - loss: 0.0325 - val_auprc: 0.9109\n",
      "2634/2634 [==============================] - 24s 9ms/step - loss: 0.0325 - val_loss: 0.0324 - val_auprc: 0.9109 - lr: 2.0000e-04\n",
      "Epoch 12/50\n",
      "2633/2634 [============================>.] - ETA: 0s - loss: 0.0325 - val_auprc: 0.9263\n",
      "2634/2634 [==============================] - 25s 9ms/step - loss: 0.0325 - val_loss: 0.0323 - val_auprc: 0.9263 - lr: 2.0000e-04\n",
      "Epoch 13/50\n",
      "2631/2634 [============================>.] - ETA: 0s - loss: 0.0325 - val_auprc: 0.9336\n",
      "2634/2634 [==============================] - 23s 9ms/step - loss: 0.0325 - val_loss: 0.0323 - val_auprc: 0.9336 - lr: 1.0000e-04\n",
      "Epoch 14/50\n",
      "2631/2634 [============================>.] - ETA: 0s - loss: 0.0325 - val_auprc: 0.9352\n",
      "2634/2634 [==============================] - 26s 10ms/step - loss: 0.0325 - val_loss: 0.0323 - val_auprc: 0.9352 - lr: 1.0000e-04\n",
      "Epoch 15/50\n",
      "2627/2634 [============================>.] - ETA: 0s - loss: 0.0325 - val_auprc: 0.9086\n",
      "2634/2634 [==============================] - 26s 10ms/step - loss: 0.0325 - val_loss: 0.0323 - val_auprc: 0.9086 - lr: 1.0000e-04\n",
      "Epoch 16/50\n",
      "2634/2634 [==============================] - ETA: 0s - loss: 0.0325 - val_auprc: 0.9325\n",
      "2634/2634 [==============================] - 24s 9ms/step - loss: 0.0325 - val_loss: 0.0323 - val_auprc: 0.9325 - lr: 1.0000e-04\n",
      "Epoch 17/50\n",
      "2631/2634 [============================>.] - ETA: 0s - loss: 0.0325 - val_auprc: 0.9261\n",
      "2634/2634 [==============================] - 24s 9ms/step - loss: 0.0325 - val_loss: 0.0323 - val_auprc: 0.9261 - lr: 1.0000e-04\n",
      "Epoch 18/50\n",
      "2628/2634 [============================>.] - ETA: 0s - loss: 0.0325 - val_auprc: 0.9314\n",
      "2634/2634 [==============================] - 23s 9ms/step - loss: 0.0325 - val_loss: 0.0323 - val_auprc: 0.9314 - lr: 1.0000e-04\n",
      "Epoch 19/50\n",
      "2627/2634 [============================>.] - ETA: 0s - loss: 0.0324 - val_auprc: 0.9198\n",
      "2634/2634 [==============================] - 22s 8ms/step - loss: 0.0324 - val_loss: 0.0323 - val_auprc: 0.9198 - lr: 1.0000e-04\n",
      "Epoch 20/50\n",
      "2634/2634 [==============================] - ETA: 0s - loss: 0.0324 - val_auprc: 0.9271\n",
      "2634/2634 [==============================] - 26s 10ms/step - loss: 0.0324 - val_loss: 0.0323 - val_auprc: 0.9271 - lr: 1.0000e-04\n",
      "Epoch 21/50\n",
      "2626/2634 [============================>.] - ETA: 0s - loss: 0.0324 - val_auprc: 0.9139\n",
      "2634/2634 [==============================] - 25s 9ms/step - loss: 0.0324 - val_loss: 0.0323 - val_auprc: 0.9139 - lr: 1.0000e-04\n",
      "Epoch 22/50\n",
      "2628/2634 [============================>.] - ETA: 0s - loss: 0.0324 - val_auprc: 0.8978\n",
      "2634/2634 [==============================] - 24s 9ms/step - loss: 0.0324 - val_loss: 0.0323 - val_auprc: 0.8978 - lr: 1.0000e-04\n",
      "Epoch 23/50\n",
      "2633/2634 [============================>.] - ETA: 0s - loss: 0.0324 - val_auprc: 0.8855\n",
      "2634/2634 [==============================] - 23s 9ms/step - loss: 0.0324 - val_loss: 0.0323 - val_auprc: 0.8855 - lr: 1.0000e-04\n",
      "Epoch 24/50\n",
      "2632/2634 [============================>.] - ETA: 0s - loss: 0.0324 - val_auprc: 0.9183\n",
      "2634/2634 [==============================] - 24s 9ms/step - loss: 0.0324 - val_loss: 0.0323 - val_auprc: 0.9183 - lr: 1.0000e-04\n",
      "Epoch 25/50\n",
      "2629/2634 [============================>.] - ETA: 0s - loss: 0.0324 - val_auprc: 0.8895\n",
      "2634/2634 [==============================] - 24s 9ms/step - loss: 0.0324 - val_loss: 0.0323 - val_auprc: 0.8895 - lr: 1.0000e-04\n",
      "Epoch 26/50\n",
      "2630/2634 [============================>.] - ETA: 0s - loss: 0.0324 - val_auprc: 0.9224\n",
      "2634/2634 [==============================] - 25s 10ms/step - loss: 0.0324 - val_loss: 0.0323 - val_auprc: 0.9224 - lr: 1.0000e-04\n",
      "Epoch 27/50\n",
      "2628/2634 [============================>.] - ETA: 0s - loss: 0.0324 - val_auprc: 0.9331\n",
      "2634/2634 [==============================] - 26s 10ms/step - loss: 0.0324 - val_loss: 0.0322 - val_auprc: 0.9331 - lr: 1.0000e-04\n",
      "Epoch 28/50\n",
      "2628/2634 [============================>.] - ETA: 0s - loss: 0.0324 - val_auprc: 0.9330\n",
      "2634/2634 [==============================] - 24s 9ms/step - loss: 0.0324 - val_loss: 0.0322 - val_auprc: 0.9330 - lr: 1.0000e-04\n",
      "Epoch 29/50\n",
      "2634/2634 [==============================] - ETA: 0s - loss: 0.0324 - val_auprc: 0.9144\n",
      "2634/2634 [==============================] - 25s 9ms/step - loss: 0.0324 - val_loss: 0.0322 - val_auprc: 0.9144 - lr: 1.0000e-04\n"
     ]
    }
   ],
   "source": [
    "early_stopping = callbacks.EarlyStopping(monitor='val_auprc', \n",
    "                                         mode='max',\n",
    "                                         patience=15,                             \n",
    "                                         restore_best_weights=True)\n",
    "\n",
    "reduce_lr = callbacks.ReduceLROnPlateau(monitor='val_auprc', \n",
    "                                        mode='max', \n",
    "                                        factor=0.2, \n",
    "                                        patience=3, \n",
    "                                        min_lr=0.0001)\n",
    "\n",
    "mc = callbacks.ModelCheckpoint(filepath='models/denoising_autoencoder_model.h5', \n",
    "                               monitor='val_auprc', \n",
    "                               mode='max',\n",
    "                               save_best_only=True, \n",
    "                               verbose=0)\n",
    "\n",
    "hist = denoising_ae.fit(x=X_train_swapped, \n",
    "                        y=X_train, \n",
    "                        validation_data=(X_val_benign_swapped, X_val_benign),\n",
    "                        batch_size=batch_size,\n",
    "                        epochs=epochs,\n",
    "                        callbacks=[\n",
    "                            AveragePrecisionScoreMetric(X_val=X_val, y_val=y_val.label_is_attack, batch_size=16384),\n",
    "                            early_stopping,\n",
    "                            reduce_lr,\n",
    "                            mc\n",
    "                        ])"
   ]
  },
  {
   "cell_type": "markdown",
   "metadata": {},
   "source": [
    "# Validation\n",
    "\n",
    "The learning curves suggest that the model does not overfit the training data. As we use `Dropout` layers the validation loss is lower than the training loss."
   ]
  },
  {
   "cell_type": "code",
   "execution_count": 32,
   "metadata": {},
   "outputs": [
    {
     "data": {
      "image/png": "[encoded data removed]",
      "text/plain": [
       "<Figure size 576x360 with 1 Axes>"
      ]
     },
     "metadata": {
      "needs_background": "light"
     },
     "output_type": "display_data"
    }
   ],
   "source": [
    "plot_hist(hist)"
   ]
  },
  {
   "cell_type": "code",
   "execution_count": 34,
   "metadata": {
    "collapsed": true
   },
   "outputs": [
    {
     "data": {
      "image/png": "[encoded data removed]",
      "text/plain": [
       "<Figure size 1440x576 with 2 Axes>"
      ]
     },
     "metadata": {
      "needs_background": "light"
     },
     "output_type": "display_data"
    }
   ],
   "source": [
    "denoising_ae = models.load_model('models/denoising_autoencoder_model.h5')\n",
    "#pred_train_denoising_ae = predict(denoising_ae, X_train, y_train.label_is_attack)\n",
    "pred_val_denoising_ae = predict(denoising_ae, X_val, y_val.label_is_attack)\n"
   ]
  },
  {
   "cell_type": "code",
   "execution_count": 36,
   "metadata": {},
   "outputs": [
    {
     "name": "stdout",
     "output_type": "stream",
     "text": [
      "3.3775885543509273e-06\n"
     ]
    }
   ],
   "source": [
    "threshold_denoising_ae = best_precision_for_target_recall(pred_val_denoising_ae, target_recall=0.9)\n",
    "print(threshold_denoising_ae)"
   ]
  },
  {
   "cell_type": "markdown",
   "metadata": {},
   "source": [
    "# Performance\n",
    "\n",
    "The performance of the denoising autoencoder surpasses the performance of the other models."
   ]
  },
  {
   "cell_type": "code",
   "execution_count": 39,
   "metadata": {},
   "outputs": [
    {
     "name": "stdout",
     "output_type": "stream",
     "text": [
      "Classification Report:\n",
      "======================\n",
      "              precision    recall  f1-score   support\n",
      "\n",
      "           0       0.88      0.74      0.81   1348471\n",
      "           1       0.78      0.90      0.84   1374117\n",
      "\n",
      "    accuracy                           0.82   2722588\n",
      "   macro avg       0.83      0.82      0.82   2722588\n",
      "weighted avg       0.83      0.82      0.82   2722588\n",
      "\n",
      "Confusion Matrix:\n",
      "=================\n"
     ]
    },
    {
     "data": {
      "image/png": "[encoded data removed]",
      "text/plain": [
       "<Figure size 360x360 with 2 Axes>"
      ]
     },
     "metadata": {
      "needs_background": "light"
     },
     "output_type": "display_data"
    },
    {
     "name": "stdout",
     "output_type": "stream",
     "text": [
      "Misclassifications by attack category:\n",
      "======================================\n"
     ]
    },
    {
     "data": {
      "text/html": [
       "<div>\n",
       "<style scoped>\n",
       "    .dataframe tbody tr th:only-of-type {\n",
       "        vertical-align: middle;\n",
       "    }\n",
       "\n",
       "    .dataframe tbody tr th {\n",
       "        vertical-align: top;\n",
       "    }\n",
       "\n",
       "    .dataframe thead th {\n",
       "        text-align: right;\n",
       "    }\n",
       "</style>\n",
       "<table border=\"1\" class=\"dataframe\">\n",
       "  <thead>\n",
       "    <tr style=\"text-align: right;\">\n",
       "      <th></th>\n",
       "      <th>misclassified</th>\n",
       "      <th>total</th>\n",
       "      <th>percent_misclassified</th>\n",
       "    </tr>\n",
       "  </thead>\n",
       "  <tbody>\n",
       "    <tr>\n",
       "      <th>Infilteration</th>\n",
       "      <td>55519</td>\n",
       "      <td>80967</td>\n",
       "      <td>0.685699</td>\n",
       "    </tr>\n",
       "    <tr>\n",
       "      <th>Bot</th>\n",
       "      <td>72027</td>\n",
       "      <td>143095</td>\n",
       "      <td>0.503351</td>\n",
       "    </tr>\n",
       "    <tr>\n",
       "      <th>Brute Force -XSS</th>\n",
       "      <td>49</td>\n",
       "      <td>115</td>\n",
       "      <td>0.426087</td>\n",
       "    </tr>\n",
       "    <tr>\n",
       "      <th>Brute Force -Web</th>\n",
       "      <td>96</td>\n",
       "      <td>306</td>\n",
       "      <td>0.313725</td>\n",
       "    </tr>\n",
       "    <tr>\n",
       "      <th>SQL Injection</th>\n",
       "      <td>13</td>\n",
       "      <td>44</td>\n",
       "      <td>0.295455</td>\n",
       "    </tr>\n",
       "    <tr>\n",
       "      <th>Benign</th>\n",
       "      <td>347277</td>\n",
       "      <td>1348471</td>\n",
       "      <td>0.257534</td>\n",
       "    </tr>\n",
       "    <tr>\n",
       "      <th>DDoS attacks-LOIC-HTTP</th>\n",
       "      <td>9707</td>\n",
       "      <td>288095</td>\n",
       "      <td>0.033694</td>\n",
       "    </tr>\n",
       "    <tr>\n",
       "      <th>DoS attacks-GoldenEye</th>\n",
       "      <td>1</td>\n",
       "      <td>20754</td>\n",
       "      <td>0.000048</td>\n",
       "    </tr>\n",
       "  </tbody>\n",
       "</table>\n",
       "</div>"
      ],
      "text/plain": [
       "                        misclassified    total  percent_misclassified\n",
       "Infilteration                   55519    80967               0.685699\n",
       "Bot                             72027   143095               0.503351\n",
       "Brute Force -XSS                   49      115               0.426087\n",
       "Brute Force -Web                   96      306               0.313725\n",
       "SQL Injection                      13       44               0.295455\n",
       "Benign                         347277  1348471               0.257534\n",
       "DDoS attacks-LOIC-HTTP           9707   288095               0.033694\n",
       "DoS attacks-GoldenEye               1    20754               0.000048"
      ]
     },
     "metadata": {},
     "output_type": "display_data"
    }
   ],
   "source": [
    "print_performance(y_val, pred_val_denoising_ae, threshold=threshold_denoising_ae)"
   ]
  },
  {
   "cell_type": "markdown",
   "metadata": {},
   "source": [
    "## 3.3 Stacked Autoencoder\n",
    "\n",
    "\n",
    "**Note**\n",
    "\n",
    "The main idea of the stacked autoencoder is to modify an undercomplete autoencoder by adding additional hidden layers, transforming the undercomplete autoencoder into a deep learning model. Adding more layers allows the autoencoder to create more complex representations, which can enhance performance. However, one has to pay attention not to make the autoencoder too powerfull as it might simply recreate the outputs by copying the given inputs if possible.  "
   ]
  },
  {
   "cell_type": "code",
   "execution_count": 40,
   "metadata": {},
   "outputs": [
    {
     "name": "stdout",
     "output_type": "stream",
     "text": [
      "Model: \"sequential\"\n",
      "_________________________________________________________________\n",
      " Layer (type)                Output Shape              Param #   \n",
      "=================================================================\n",
      " dense (Dense)               (None, 50)                3050      \n",
      "                                                                 \n",
      " dense_1 (Dense)             (None, 30)                1530      \n",
      "                                                                 \n",
      " dense_2 (Dense)             (None, 20)                620       \n",
      "                                                                 \n",
      " dense_3 (Dense)             (None, 10)                210       \n",
      "                                                                 \n",
      " dense_4 (Dense)             (None, 20)                220       \n",
      "                                                                 \n",
      " dropout (Dropout)           (None, 20)                0         \n",
      "                                                                 \n",
      " dense_5 (Dense)             (None, 30)                630       \n",
      "                                                                 \n",
      " dropout_1 (Dropout)         (None, 30)                0         \n",
      "                                                                 \n",
      " dense_6 (Dense)             (None, 50)                1550      \n",
      "                                                                 \n",
      " dropout_2 (Dropout)         (None, 50)                0         \n",
      "                                                                 \n",
      " dense_7 (Dense)             (None, 60)                3060      \n",
      "                                                                 \n",
      "=================================================================\n",
      "Total params: 10,870\n",
      "Trainable params: 10,870\n",
      "Non-trainable params: 0\n",
      "_________________________________________________________________\n"
     ]
    }
   ],
   "source": [
    "# creating a new hidden layers \n",
    "K.clear_session()\n",
    "gc.collect()\n",
    "\n",
    "activation = 'elu'\n",
    "dropout= 0.1\n",
    "\n",
    "stacked_ae = models.Sequential([\n",
    "    layers.Dense(50, activation=activation, kernel_constraint=constraints.UnitNorm(axis=0), input_shape=(input_dims,)),\n",
    "    layers.Dense(30, activation=activation, kernel_constraint=constraints.UnitNorm(axis=0)),\n",
    "    layers.Dense(20, activation=activation, kernel_constraint=constraints.UnitNorm(axis=0)),\n",
    "    layers.Dense(10, activation=activation, kernel_constraint=constraints.UnitNorm(axis=0)),\n",
    "    layers.Dense(20, activation=activation),\n",
    "    layers.Dropout(dropout),\n",
    "    layers.Dense(30, activation=activation),\n",
    "    layers.Dropout(dropout),\n",
    "    layers.Dense(50, activation=activation),\n",
    "    layers.Dropout(dropout),\n",
    "    layers.Dense(input_dims, activation='sigmoid')\n",
    "])\n",
    "\n",
    "stacked_ae.compile(optimizer='adam', loss='binary_crossentropy')\n",
    "stacked_ae.summary()"
   ]
  },
  {
   "cell_type": "markdown",
   "metadata": {},
   "source": [
    "# Training "
   ]
  },
  {
   "cell_type": "code",
   "execution_count": 41,
   "metadata": {
    "scrolled": true
   },
   "outputs": [
    {
     "name": "stdout",
     "output_type": "stream",
     "text": [
      "Epoch 1/50\n",
      "2633/2634 [============================>.] - ETA: 0s - loss: 0.0514 - val_auprc: 0.8020\n",
      "2634/2634 [==============================] - 15s 5ms/step - loss: 0.0514 - val_loss: 0.0327 - val_auprc: 0.8020 - lr: 0.0010\n",
      "Epoch 2/50\n",
      "2634/2634 [==============================] - ETA: 0s - loss: 0.0336 - val_auprc: 0.7983\n",
      "2634/2634 [==============================] - 16s 6ms/step - loss: 0.0336 - val_loss: 0.0318 - val_auprc: 0.7983 - lr: 0.0010\n",
      "Epoch 3/50\n",
      "2633/2634 [============================>.] - ETA: 0s - loss: 0.0327 - val_auprc: 0.7812\n",
      "2634/2634 [==============================] - 16s 6ms/step - loss: 0.0327 - val_loss: 0.0314 - val_auprc: 0.7812 - lr: 0.0010\n",
      "Epoch 4/50\n",
      "2629/2634 [============================>.] - ETA: 0s - loss: 0.0323 - val_auprc: 0.8051\n",
      "2634/2634 [==============================] - 16s 6ms/step - loss: 0.0323 - val_loss: 0.0313 - val_auprc: 0.8051 - lr: 0.0010\n",
      "Epoch 5/50\n",
      "2620/2634 [============================>.] - ETA: 0s - loss: 0.0320 - val_auprc: 0.8537\n",
      "2634/2634 [==============================] - 14s 5ms/step - loss: 0.0320 - val_loss: 0.0312 - val_auprc: 0.8537 - lr: 0.0010\n",
      "Epoch 6/50\n",
      "2628/2634 [============================>.] - ETA: 0s - loss: 0.0319 - val_auprc: 0.8758\n",
      "2634/2634 [==============================] - 15s 6ms/step - loss: 0.0319 - val_loss: 0.0311 - val_auprc: 0.8758 - lr: 0.0010\n",
      "Epoch 7/50\n",
      "2628/2634 [============================>.] - ETA: 0s - loss: 0.0318 - val_auprc: 0.8577\n",
      "2634/2634 [==============================] - 16s 6ms/step - loss: 0.0318 - val_loss: 0.0311 - val_auprc: 0.8577 - lr: 0.0010\n",
      "Epoch 8/50\n",
      "2619/2634 [============================>.] - ETA: 0s - loss: 0.0317 - val_auprc: 0.8490\n",
      "2634/2634 [==============================] - 16s 6ms/step - loss: 0.0317 - val_loss: 0.0310 - val_auprc: 0.8490 - lr: 0.0010\n",
      "Epoch 9/50\n",
      "2617/2634 [============================>.] - ETA: 0s - loss: 0.0317 - val_auprc: 0.8177\n",
      "2634/2634 [==============================] - 15s 6ms/step - loss: 0.0317 - val_loss: 0.0310 - val_auprc: 0.8177 - lr: 0.0010\n",
      "Epoch 10/50\n",
      "2627/2634 [============================>.] - ETA: 0s - loss: 0.0316 - val_auprc: 0.8217\n",
      "2634/2634 [==============================] - 15s 6ms/step - loss: 0.0316 - val_loss: 0.0310 - val_auprc: 0.8217 - lr: 2.0000e-04\n",
      "Epoch 11/50\n",
      "2624/2634 [============================>.] - ETA: 0s - loss: 0.0316 - val_auprc: 0.8393\n",
      "2634/2634 [==============================] - 18s 7ms/step - loss: 0.0316 - val_loss: 0.0310 - val_auprc: 0.8393 - lr: 2.0000e-04\n",
      "Epoch 12/50\n",
      "2624/2634 [============================>.] - ETA: 0s - loss: 0.0316 - val_auprc: 0.8530\n",
      "2634/2634 [==============================] - 18s 7ms/step - loss: 0.0316 - val_loss: 0.0310 - val_auprc: 0.8530 - lr: 2.0000e-04\n",
      "Epoch 13/50\n",
      "2629/2634 [============================>.] - ETA: 0s - loss: 0.0316 - val_auprc: 0.8512\n",
      "2634/2634 [==============================] - 15s 6ms/step - loss: 0.0316 - val_loss: 0.0310 - val_auprc: 0.8512 - lr: 1.0000e-04\n",
      "Epoch 14/50\n",
      "2626/2634 [============================>.] - ETA: 0s - loss: 0.0316 - val_auprc: 0.8613\n",
      "2634/2634 [==============================] - 17s 7ms/step - loss: 0.0316 - val_loss: 0.0310 - val_auprc: 0.8613 - lr: 1.0000e-04\n",
      "Epoch 15/50\n",
      "2624/2634 [============================>.] - ETA: 0s - loss: 0.0316 - val_auprc: 0.8553\n",
      "2634/2634 [==============================] - 15s 6ms/step - loss: 0.0316 - val_loss: 0.0310 - val_auprc: 0.8553 - lr: 1.0000e-04\n",
      "Epoch 16/50\n",
      "2625/2634 [============================>.] - ETA: 0s - loss: 0.0316 - val_auprc: 0.8578\n",
      "2634/2634 [==============================] - 15s 6ms/step - loss: 0.0316 - val_loss: 0.0310 - val_auprc: 0.8578 - lr: 1.0000e-04\n",
      "Epoch 17/50\n",
      "2633/2634 [============================>.] - ETA: 0s - loss: 0.0316 - val_auprc: 0.8569\n",
      "2634/2634 [==============================] - 16s 6ms/step - loss: 0.0316 - val_loss: 0.0310 - val_auprc: 0.8569 - lr: 1.0000e-04\n",
      "Epoch 18/50\n",
      "2623/2634 [============================>.] - ETA: 0s - loss: 0.0316 - val_auprc: 0.8619\n",
      "2634/2634 [==============================] - 17s 6ms/step - loss: 0.0316 - val_loss: 0.0310 - val_auprc: 0.8619 - lr: 1.0000e-04\n",
      "Epoch 19/50\n",
      "2626/2634 [============================>.] - ETA: 0s - loss: 0.0316 - val_auprc: 0.8546\n",
      "2634/2634 [==============================] - 16s 6ms/step - loss: 0.0316 - val_loss: 0.0310 - val_auprc: 0.8546 - lr: 1.0000e-04\n",
      "Epoch 20/50\n",
      "2621/2634 [============================>.] - ETA: 0s - loss: 0.0316 - val_auprc: 0.8483\n",
      "2634/2634 [==============================] - 14s 5ms/step - loss: 0.0316 - val_loss: 0.0310 - val_auprc: 0.8483 - lr: 1.0000e-04\n",
      "Epoch 21/50\n",
      "2627/2634 [============================>.] - ETA: 0s - loss: 0.0316 - val_auprc: 0.8362\n",
      "2634/2634 [==============================] - 14s 5ms/step - loss: 0.0316 - val_loss: 0.0310 - val_auprc: 0.8362 - lr: 1.0000e-04\n"
     ]
    }
   ],
   "source": [
    "early_stopping = callbacks.EarlyStopping(monitor='val_auprc', \n",
    "                                         mode='max',\n",
    "                                         patience=15,                             \n",
    "                                         restore_best_weights=True)\n",
    "\n",
    "reduce_lr = callbacks.ReduceLROnPlateau(monitor='val_auprc', \n",
    "                                        mode='max', \n",
    "                                        factor=0.2, \n",
    "                                        patience=3, \n",
    "                                        min_lr=0.0001)\n",
    "\n",
    "mc = callbacks.ModelCheckpoint(filepath='models/stacked_autoencoder_model.h5',\n",
    "                               monitor='val_auprc', \n",
    "                               mode='max',\n",
    "                               save_best_only=True, \n",
    "                               verbose=0)\n",
    "\n",
    "hist = stacked_ae.fit(x=X_train, \n",
    "                      y=X_train, \n",
    "                      validation_data=(X_val_benign, X_val_benign),\n",
    "                      batch_size=batch_size,\n",
    "                      epochs=epochs,\n",
    "                      callbacks=[\n",
    "                          AveragePrecisionScoreMetric(X_val=X_val, y_val=y_val.label_is_attack, batch_size=16384),\n",
    "                          early_stopping,\n",
    "                          reduce_lr,\n",
    "                          mc\n",
    "                      ])"
   ]
  },
  {
   "cell_type": "markdown",
   "metadata": {},
   "source": [
    "# Validation\n",
    "\n",
    "The learning curves suggest that the model does not overfit the training data. As we use `Dropout` layers, the validation loss is lower than the training loss."
   ]
  },
  {
   "cell_type": "code",
   "execution_count": 46,
   "metadata": {},
   "outputs": [
    {
     "data": {
      "image/png": "[encoded data removed]",
      "text/plain": [
       "<Figure size 576x360 with 1 Axes>"
      ]
     },
     "metadata": {
      "needs_background": "light"
     },
     "output_type": "display_data"
    }
   ],
   "source": [
    "plot_hist(hist)"
   ]
  },
  {
   "cell_type": "code",
   "execution_count": 42,
   "metadata": {
    "collapsed": true
   },
   "outputs": [
    {
     "data": {
      "image/png": "[encoded data removed]",
      "text/plain": [
       "<Figure size 1440x576 with 2 Axes>"
      ]
     },
     "metadata": {
      "needs_background": "light"
     },
     "output_type": "display_data"
    }
   ],
   "source": [
    "stacked_ae = models.load_model('models/stacked_autoencoder_model.h5')\n",
    "#pred_train_stacked_ae = predict(stacked_ae, X_train, y_train.label_is_attack)\n",
    "pred_val_stacked_ae = predict(stacked_ae, X_val, y_val.label_is_attack)\n",
    "\n"
   ]
  },
  {
   "cell_type": "code",
   "execution_count": 44,
   "metadata": {},
   "outputs": [
    {
     "name": "stdout",
     "output_type": "stream",
     "text": [
      "9.894460564532637e-06\n"
     ]
    }
   ],
   "source": [
    "threshold_stacked_ae = best_precision_for_target_recall(pred_val_stacked_ae, target_recall=0.9)\n",
    "print(threshold_stacked_ae)"
   ]
  },
  {
   "cell_type": "markdown",
   "metadata": {},
   "source": [
    "# Performance\n",
    "\n",
    "The performance of the stacked autoencoder was better than the performance of the undercomplete autoencoder."
   ]
  },
  {
   "cell_type": "code",
   "execution_count": 45,
   "metadata": {},
   "outputs": [
    {
     "name": "stdout",
     "output_type": "stream",
     "text": [
      "Classification Report:\n",
      "======================\n",
      "              precision    recall  f1-score   support\n",
      "\n",
      "           0       0.87      0.68      0.76   1348471\n",
      "           1       0.74      0.90      0.81   1374117\n",
      "\n",
      "    accuracy                           0.79   2722588\n",
      "   macro avg       0.80      0.79      0.79   2722588\n",
      "weighted avg       0.80      0.79      0.79   2722588\n",
      "\n",
      "Confusion Matrix:\n",
      "=================\n"
     ]
    },
    {
     "data": {
      "image/png": "[encoded data removed]",
      "text/plain": [
       "<Figure size 360x360 with 2 Axes>"
      ]
     },
     "metadata": {
      "needs_background": "light"
     },
     "output_type": "display_data"
    },
    {
     "name": "stdout",
     "output_type": "stream",
     "text": [
      "Misclassifications by attack category:\n",
      "======================================\n"
     ]
    },
    {
     "data": {
      "text/html": [
       "<div>\n",
       "<style scoped>\n",
       "    .dataframe tbody tr th:only-of-type {\n",
       "        vertical-align: middle;\n",
       "    }\n",
       "\n",
       "    .dataframe tbody tr th {\n",
       "        vertical-align: top;\n",
       "    }\n",
       "\n",
       "    .dataframe thead th {\n",
       "        text-align: right;\n",
       "    }\n",
       "</style>\n",
       "<table border=\"1\" class=\"dataframe\">\n",
       "  <thead>\n",
       "    <tr style=\"text-align: right;\">\n",
       "      <th></th>\n",
       "      <th>misclassified</th>\n",
       "      <th>total</th>\n",
       "      <th>percent_misclassified</th>\n",
       "    </tr>\n",
       "  </thead>\n",
       "  <tbody>\n",
       "    <tr>\n",
       "      <th>Infilteration</th>\n",
       "      <td>43741</td>\n",
       "      <td>80967</td>\n",
       "      <td>0.540232</td>\n",
       "    </tr>\n",
       "    <tr>\n",
       "      <th>Benign</th>\n",
       "      <td>435708</td>\n",
       "      <td>1348471</td>\n",
       "      <td>0.323113</td>\n",
       "    </tr>\n",
       "    <tr>\n",
       "      <th>Brute Force -XSS</th>\n",
       "      <td>36</td>\n",
       "      <td>115</td>\n",
       "      <td>0.313043</td>\n",
       "    </tr>\n",
       "    <tr>\n",
       "      <th>DDoS attacks-LOIC-HTTP</th>\n",
       "      <td>71006</td>\n",
       "      <td>288095</td>\n",
       "      <td>0.246467</td>\n",
       "    </tr>\n",
       "    <tr>\n",
       "      <th>Brute Force -Web</th>\n",
       "      <td>56</td>\n",
       "      <td>306</td>\n",
       "      <td>0.183007</td>\n",
       "    </tr>\n",
       "    <tr>\n",
       "      <th>SQL Injection</th>\n",
       "      <td>8</td>\n",
       "      <td>44</td>\n",
       "      <td>0.181818</td>\n",
       "    </tr>\n",
       "    <tr>\n",
       "      <th>Bot</th>\n",
       "      <td>22924</td>\n",
       "      <td>143095</td>\n",
       "      <td>0.160201</td>\n",
       "    </tr>\n",
       "    <tr>\n",
       "      <th>DDOS attack-LOIC-UDP</th>\n",
       "      <td>1</td>\n",
       "      <td>865</td>\n",
       "      <td>0.001156</td>\n",
       "    </tr>\n",
       "    <tr>\n",
       "      <th>DoS attacks-GoldenEye</th>\n",
       "      <td>1</td>\n",
       "      <td>20754</td>\n",
       "      <td>0.000048</td>\n",
       "    </tr>\n",
       "  </tbody>\n",
       "</table>\n",
       "</div>"
      ],
      "text/plain": [
       "                        misclassified    total  percent_misclassified\n",
       "Infilteration                   43741    80967               0.540232\n",
       "Benign                         435708  1348471               0.323113\n",
       "Brute Force -XSS                   36      115               0.313043\n",
       "DDoS attacks-LOIC-HTTP          71006   288095               0.246467\n",
       "Brute Force -Web                   56      306               0.183007\n",
       "SQL Injection                       8       44               0.181818\n",
       "Bot                             22924   143095               0.160201\n",
       "DDOS attack-LOIC-UDP                1      865               0.001156\n",
       "DoS attacks-GoldenEye               1    20754               0.000048"
      ]
     },
     "metadata": {},
     "output_type": "display_data"
    }
   ],
   "source": [
    "print_performance(y_val, pred_val_stacked_ae, threshold=threshold_stacked_ae)"
   ]
  },
  {
   "cell_type": "markdown",
   "metadata": {},
   "source": [
    "# Lessons Learned \n",
    "\n",
    "\n",
    "in terms of this problem and the provided data tells us that Anamoly detection methods wasnt the best option for real live implmentation , surpisinglny the classical machine learning models in the pervoius expermints out perform the 3 vations of autoencoder nearual network . However, the best advatantge of this process is that anamoly detection can take only one class/label during the training which is a very good option in the absence of malicous network traffic during the training phase ."
   ]
  },
  {
   "cell_type": "code",
   "execution_count": null,
   "metadata": {},
   "outputs": [],
   "source": []
  }
 ],
 "metadata": {
  "kernelspec": {
   "display_name": "Python 3 (ipykernel)",
   "language": "python",
   "name": "python3"
  },
  "language_info": {
   "codemirror_mode": {
    "name": "ipython",
    "version": 3
   },
   "file_extension": ".py",
   "mimetype": "text/x-python",
   "name": "python",
   "nbconvert_exporter": "python",
   "pygments_lexer": "ipython3",
   "version": "3.9.7"
  }
 },
 "nbformat": 4,
 "nbformat_minor": 4
}
